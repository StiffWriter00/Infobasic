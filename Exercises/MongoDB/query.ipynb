{
 "cells": [
  {
   "cell_type": "code",
   "execution_count": 1,
   "id": "db5499da",
   "metadata": {},
   "outputs": [],
   "source": [
    "# Import modules\n",
    "import csv\n",
    "import json\n",
    "from pymongo import MongoClient\n",
    "from pprint import pprint\n",
    "import time"
   ]
  },
  {
   "cell_type": "code",
   "execution_count": 2,
   "id": "ef95202a",
   "metadata": {},
   "outputs": [],
   "source": [
    "# Connect to Mongo connection\n",
    "client = MongoClient('localhost', 27017)"
   ]
  },
  {
   "cell_type": "code",
   "execution_count": 3,
   "id": "0dce892c",
   "metadata": {},
   "outputs": [],
   "source": [
    "# Create database \n",
    "db = client[\"basket_NBA\"]"
   ]
  },
  {
   "cell_type": "code",
   "execution_count": 4,
   "id": "e3470023",
   "metadata": {},
   "outputs": [],
   "source": [
    "# Create collections\n",
    "collection_players_teams= db[\"players_teams\"]\n",
    "collection_draft= db[\"draft\"]\n",
    "collection_series_post= db[\"series_post\"]\n",
    "collection_awards_coaches= db[\"awards_coaches\"]\n",
    "collection_awards_players= db[\"awards_players\"]\n",
    "collection_player_all_star= db[\"player_all_star\"]"
   ]
  },
  {
   "cell_type": "code",
   "execution_count": null,
   "id": "74916c96",
   "metadata": {},
   "outputs": [],
   "source": [
    "# Store data from json files\n",
    "f = open('data/collection_players_teams.json')\n",
    "player_teams_bson = json.load(f)\n",
    "f.close\n",
    "\n",
    "f = open('data/collection_draft.json')\n",
    "draft_bson = json.load(f)\n",
    "f.close\n",
    "\n",
    "f = open('data/collection_series_post.json')\n",
    "series_post_bson = json.load(f)\n",
    "f.close\n",
    "\n",
    "f = open('data/collection_awards_coaches.json')\n",
    "coaches_awards_bson = json.load(f)\n",
    "f.close\n",
    "\n",
    "f = open('data/collection_awards_players.json')\n",
    "awards_players_bson = json.load(f)\n",
    "f.close\n",
    "\n",
    "f = open('data/collection_player_all_star.json')\n",
    "player_all_star_bson = json.load(f)\n",
    "f.close"
   ]
  },
  {
   "cell_type": "code",
   "execution_count": null,
   "id": "9c5ede87",
   "metadata": {},
   "outputs": [],
   "source": [
    "# Insert data into collections\n",
    "db.collection_players_teams.insert_many(player_teams_bson)\n",
    "db.collection_draft.insert_many(draft_bson)\n",
    "db.collection_series_post.insert_many(series_post_bson)\n",
    "db.collection_awards_coaches.insert_many(coaches_awards_bson)\n",
    "db.collection_awards_players.insert_many(awards_players_bson)\n",
    "db.collection_player_all_star.insert_many(player_all_star_bson)"
   ]
  }
 ],
 "metadata": {
  "kernelspec": {
   "display_name": "Python 3.10.6 64-bit",
   "language": "python",
   "name": "python3"
  },
  "language_info": {
   "codemirror_mode": {
    "name": "ipython",
    "version": 3
   },
   "file_extension": ".py",
   "mimetype": "text/x-python",
   "name": "python",
   "nbconvert_exporter": "python",
   "pygments_lexer": "ipython3",
   "version": "3.10.6"
  },
  "vscode": {
   "interpreter": {
    "hash": "916dbcbb3f70747c44a77c7bcd40155683ae19c65e1c03b4aa3499c5328201f1"
   }
  }
 },
 "nbformat": 4,
 "nbformat_minor": 5
}
